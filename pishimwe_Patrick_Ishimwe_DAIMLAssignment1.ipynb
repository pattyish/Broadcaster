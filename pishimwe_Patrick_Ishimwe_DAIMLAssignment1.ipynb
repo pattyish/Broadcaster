{
  "nbformat": 4,
  "nbformat_minor": 0,
  "metadata": {
    "colab": {
      "name": "pishimwe-Patrick-Ishimwe-DAIMLAssignment1.ipynb",
      "provenance": [],
      "collapsed_sections": [
        "f0DxJ8s43RhA",
        "y3wL3GDL3cPK",
        "j3i_iEyZ3xy5"
      ],
      "authorship_tag": "ABX9TyOP5U2vQv501NkuCOAcuRDO",
      "include_colab_link": true
    },
    "kernelspec": {
      "name": "python3",
      "display_name": "Python 3"
    },
    "language_info": {
      "name": "python"
    }
  },
  "cells": [
    {
      "cell_type": "markdown",
      "metadata": {
        "id": "view-in-github",
        "colab_type": "text"
      },
      "source": [
        "<a href=\"https://colab.research.google.com/github/pattyish/Broadcaster/blob/master/pishimwe_Patrick_Ishimwe_DAIMLAssignment1.ipynb\" target=\"_parent\"><img src=\"https://colab.research.google.com/assets/colab-badge.svg\" alt=\"Open In Colab\"/></a>"
      ]
    },
    {
      "cell_type": "markdown",
      "metadata": {
        "id": "f0DxJ8s43RhA"
      },
      "source": [
        "#Question 1"
      ]
    },
    {
      "cell_type": "code",
      "metadata": {
        "colab": {
          "base_uri": "https://localhost:8080/"
        },
        "id": "Ndq_GtIXjQ6n",
        "outputId": "c12634d2-1338-4108-bbb8-f6467d4e2c6b"
      },
      "source": [
        "import math\n",
        "def calculateNumFolds(distNum):\n",
        "  x = distNum * math.pow(10, 3) ## converting to 8 848m in mm \n",
        "  totalNumFolds = math.ceil(math.log(x) / math.log(2))\n",
        "  print(totalNumFolds)\n",
        "\n",
        "# Get the number of folds based on the number you to the function\n",
        "calculateNumFolds(8848)"
      ],
      "execution_count": null,
      "outputs": [
        {
          "output_type": "stream",
          "name": "stdout",
          "text": [
            "23.076919954896795\n"
          ]
        }
      ]
    },
    {
      "cell_type": "markdown",
      "metadata": {
        "id": "y3wL3GDL3cPK"
      },
      "source": [
        "#Question 2"
      ]
    },
    {
      "cell_type": "code",
      "metadata": {
        "colab": {
          "base_uri": "https://localhost:8080/"
        },
        "id": "pPGRqiAO3lL3",
        "outputId": "375bbb75-84f5-45e0-c033-712f8e01a4fc"
      },
      "source": [
        "import math\n",
        "# t = ln 1 - ln 2 / (-0.1)\n",
        "# ln in math function of python is log\n",
        "t = round(math.log(1) - math.log(2) / (-0.1))\n",
        "\n",
        "# print time after get it\n",
        "print(str(t) + \"unit of time\")"
      ],
      "execution_count": null,
      "outputs": [
        {
          "output_type": "stream",
          "name": "stdout",
          "text": [
            "7unit of time\n"
          ]
        }
      ]
    },
    {
      "cell_type": "markdown",
      "metadata": {
        "id": "wsKocYnv3kD7"
      },
      "source": [
        "#Question 3"
      ]
    },
    {
      "cell_type": "code",
      "metadata": {
        "colab": {
          "base_uri": "https://localhost:8080/"
        },
        "id": "1XY4ZkkC3r7U",
        "outputId": "6e19b20c-ecbc-4895-a368-81d49542b265"
      },
      "source": [
        "import math\n",
        "initialAmount = 100 # In dollar\n",
        "rate = 5/100 # My interest Rate \n",
        "amountWithInterest = 0\n",
        "for i in [1, 2, 3, 4, 5]:\n",
        "  # Bellow line will going to print the compound interest by using p * (1 + rate)^n \n",
        "  # where p is initial amount, rate is the interest rate and n is the time. this will be calculated annually.\n",
        "  print(\"year \" + str(i) + \": $\" +str(round(initialAmount * (math.pow((1 + rate),i)))))\n"
      ],
      "execution_count": 1,
      "outputs": [
        {
          "output_type": "stream",
          "name": "stdout",
          "text": [
            "year 1: $105\n",
            "year 2: $110\n",
            "year 3: $116\n",
            "year 4: $122\n",
            "year 5: $128\n"
          ]
        }
      ]
    },
    {
      "cell_type": "markdown",
      "metadata": {
        "id": "aoT8NY5V3vAV"
      },
      "source": [
        "#Question 4"
      ]
    },
    {
      "cell_type": "code",
      "metadata": {
        "colab": {
          "base_uri": "https://localhost:8080/"
        },
        "id": "-Tgo61fM3xMa",
        "outputId": "b4bd70da-78c1-4865-ec84-6435c7190f0f"
      },
      "source": [
        "loan = 20000 # in dollar\n",
        "rate = 1/100      # interest rate of monthly\n",
        "\n",
        "# formula to used on payment= r(pv)/(1-(1+r)^-n\n",
        "# resuable function to create debt to pay off\n",
        "def calculatePayOffDebt(loan, rate):\n",
        "  monthsOfYear = 12 # Is eqaul to one year\n",
        "  for i in [1, 2, 3]:\n",
        "    payment = (loan * rate) / (1 - (1 + rate)**(-i * 12))\n",
        "    print(\"The monthly pay off for in \" + str(i) + \" is \" + \"$\"+str(round(payment)))\n",
        "\n",
        "# calling function with loan and rate \n",
        "# loan and rate should be change the way you want but here value is $20000 for loan and 1/100 for rate \n",
        "calculatePayOffDebt(loan, rate)    \n"
      ],
      "execution_count": 2,
      "outputs": [
        {
          "output_type": "stream",
          "name": "stdout",
          "text": [
            "The monthly pay off for in 1 is $1777\n",
            "The monthly pay off for in 2 is $941\n",
            "The monthly pay off for in 3 is $664\n"
          ]
        }
      ]
    },
    {
      "cell_type": "markdown",
      "metadata": {
        "id": "j3i_iEyZ3xy5"
      },
      "source": [
        "#Question 5"
      ]
    },
    {
      "cell_type": "code",
      "metadata": {
        "id": "uaZrHeOb30P9",
        "colab": {
          "base_uri": "https://localhost:8080/",
          "height": 313
        },
        "outputId": "607643e5-e94d-4764-b39f-4df6fe54349f"
      },
      "source": [
        "import matplotlib.pyplot as plt\n",
        "\n",
        "# Customers on the first day\n",
        "customers = 100 \n",
        "# start day where i have 100 customers\n",
        "day = 1  \n",
        "# This is in dollar\n",
        "profitForOneCustomer = 10 \n",
        "\n",
        "# Initial Investment\n",
        "totalInvestment = 100000\n",
        "\n",
        "# first day Profit\n",
        "cumulativeProfit = (customers * profitForOneCustomer) \n",
        "\n",
        "# Lists to keep store my Day to day profita and days as well.\n",
        "dayTodayProfit = [cumulativeProfit]\n",
        "days = [day]\n",
        "  \n",
        "##print(str(customers) + \" \" + str(cumulativeProfit) + \" \" + str(day))\n",
        "while (True):\n",
        "  if cumulativeProfit >= totalInvestment:\n",
        "    break\n",
        "  customers = customers * 1.01\n",
        "  cumulativeProfit = (customers * profitForOneCustomer) + cumulativeProfit\n",
        "  day = day + 1\n",
        "  dayTodayProfit.append(cumulativeProfit)\n",
        "  days.append(day)\n",
        "\n",
        "# plotting days and cummulative profit to graph    \n",
        "plt.plot(days, dayTodayProfit, color = \"blue\", label = \"Profit\")\n",
        "plt.xlabel(\"Days\", color=\"blue\")\n",
        "plt.ylabel(\"Cumulative Profit\", color=\"red\")\n",
        "plt.plot(days[-1], dayTodayProfit[-1], 'go')\n",
        "\n",
        "# Printing the last day is days list which is the last day\n",
        "print(\"the number of days it will take to reach $100000 are: \" + str(days[-1]))\n",
        "plt.title(\"Cummulative profit - Days\")\n",
        "plt.legend()\n",
        "plt.show()"
      ],
      "execution_count": 9,
      "outputs": [
        {
          "output_type": "stream",
          "name": "stdout",
          "text": [
            "the number of days it will take to reach $100000 are: 70\n"
          ]
        },
        {
          "output_type": "display_data",
          "data": {
            "image/png": "[encoded data removed]",
            "text/plain": [
              "<Figure size 432x288 with 1 Axes>"
            ]
          },
          "metadata": {
            "needs_background": "light"
          }
        }
      ]
    },
    {
      "cell_type": "markdown",
      "metadata": {
        "id": "SRDOtbWj4Bu4"
      },
      "source": [
        "#Question 6"
      ]
    },
    {
      "cell_type": "code",
      "metadata": {
        "colab": {
          "base_uri": "https://localhost:8080/",
          "height": 328
        },
        "id": "ozagaqVI4ECR",
        "outputId": "5f1de3e4-5b18-4a25-dcdf-16fc5684d3b0"
      },
      "source": [
        "deathDateList = []\n",
        "casesDateList = []\n",
        "deathList = []\n",
        "casesList = [] \n",
        "list1 = list(df[\"Death\"])\n",
        "list2 = list(df[\"Cases\"])\n",
        "# Extracting data from excel sheet\n",
        "df = pd.read_excel(\"ebola_download.xls\")\n",
        "\n",
        "# Reindex dataset to date \n",
        "index = pd.date_range(min(df.Date), max(df.Date))\n",
        "df = df.set_index(\"Date\").reindex(index)\n",
        "\n",
        "# using interpolation to fill missing value\n",
        "df = df.interpolate(method='linear')\n",
        "\n",
        "# Looping througth to dataset \n",
        "for value in [100, 500, 1000, 2000, 5000]:\n",
        "  dateIndexForDeath = min(df.index[df[\"Death\"] >= value])\n",
        "  dateIndexForCase = min(df.index[df[\"Cases\"] >= value])\n",
        "  deathDateList.append(datetime.strptime(dateIndexForDeath.strftime('%m/%d/%y'), '%m/%d/%y'))\n",
        "  casesDateList.append(datetime.strptime(dateIndexForCase.strftime('%m/%d/%y'), '%m/%d/%y'))\n",
        "  deathList.append(df[\"Death\"].loc[min(df.index[df[\"Death\"] >= value])])\n",
        "  casesList.append(df[\"Cases\"].loc[min(df.index[df[\"Cases\"] >= value])])\n",
        "\n",
        "# plt.figure(figsize=(10,5))\n",
        "plt.plot(df.index[:], list1, label=\"Death\", color=\"red\")\n",
        "plt.plot(df.index[:], list2, label=\"Cases\", color=\"blue\")\n",
        "plt.scatter(casesDateList, casesList, marker=\"o\")\n",
        "plt.scatter(deathDateList, deathList, marker=\"o\")\n",
        "plt.xticks(rotation=70)\n",
        "plt.legend()\n",
        "plt.title(\"Death and Cases\");\n",
        "plt.ylabel(\"Death and Cases\", color=\"blue\")\n",
        "plt.xlabel(\"Date\", color=\"red\")\n",
        "plt.show()\n",
        "# plt.legend()\n",
        "# plt.show()"
      ],
      "execution_count": 108,
      "outputs": [
        {
          "output_type": "display_data",
          "data": {
            "image/png": "[encoded data removed]",
            "text/plain": [
              "<Figure size 432x288 with 1 Axes>"
            ]
          },
          "metadata": {
            "needs_background": "light"
          }
        }
      ]
    },
    {
      "cell_type": "markdown",
      "metadata": {
        "id": "2PqvLhsI4EtQ"
      },
      "source": [
        "#Question 7"
      ]
    },
    {
      "cell_type": "code",
      "metadata": {
        "colab": {
          "base_uri": "https://localhost:8080/"
        },
        "id": "CGos16qvlMkR",
        "outputId": "d649b2ef-d576-4121-ffe1-1b2aaca0bfd3"
      },
      "source": [
        "# using interpolated data from question six\n",
        "deathSet = df[\"Death\"]\n",
        "casesSet = df[\"Cases\"]\n",
        "\n",
        "sumDeath = 0\n",
        "sumCases = 0\n",
        "\n",
        "# function to calculate daily growth that will take two value day and previous day\n",
        "def calculateGrowth(currentDeath, previousDeath):\n",
        "  return ((currentDeath - previousDeath) / previousDeath) * 100 \n",
        "\n",
        "# This loop will loop througth the dataset and calculate sum of daily growth rate for deaths\n",
        "for i in range(len(deathSet) - 1): \n",
        "  sumDeath = sumDeath + calculateGrowth(deathSet[i + 1], deathSet[i])\n",
        " \n",
        "# This loop will loop througth the dataset and calculate sum of daily growth rate for cases\n",
        "for i in range(len(casesSet) - 1):\n",
        "  sumCases = sumCases + calculateGrowth(casesSet[i + 1], casesSet[i])\n",
        "\n",
        "print(sumDeath/(len(deathSet) - 1))\n",
        "print(sumCases/(len(casesSet) - 1))\n"
      ],
      "execution_count": 68,
      "outputs": [
        {
          "output_type": "stream",
          "name": "stdout",
          "text": [
            "2.330608083367968\n",
            "2.5065218916499963\n"
          ]
        }
      ]
    },
    {
      "cell_type": "markdown",
      "metadata": {
        "id": "A_qMVEVf4Hgy"
      },
      "source": [
        "#Question 8"
      ]
    },
    {
      "cell_type": "code",
      "metadata": {
        "id": "kJ3gjdUm4JO7",
        "colab": {
          "base_uri": "https://localhost:8080/",
          "height": 246
        },
        "outputId": "ad2314fc-0493-496a-d10e-97905a23eb78"
      },
      "source": [
        "ratioList = list(deathSet/casesSet)\n",
        "print(\"average ration \" + str(sum(ratioList) / len(ratioList)))\n",
        "\n",
        "plt.plot(deathSet, casesSet, label=\"Death vs Case\")\n",
        "plt.legend()\n",
        "plt.title(\"Death - Cases\");\n",
        "plt.xlabel(\"Death\", color=\"blue\")\n",
        "plt.ylabel(\"Cases\", color=\"red\")\n",
        "plt.show()\n"
      ],
      "execution_count": 8,
      "outputs": [
        {
          "output_type": "error",
          "ename": "NameError",
          "evalue": "ignored",
          "traceback": [
            "\u001b[0;31m---------------------------------------------------------------------------\u001b[0m",
            "\u001b[0;31mNameError\u001b[0m                                 Traceback (most recent call last)",
            "\u001b[0;32m<ipython-input-8-eae0c4cf5bc2>\u001b[0m in \u001b[0;36m<module>\u001b[0;34m()\u001b[0m\n\u001b[0;32m----> 1\u001b[0;31m \u001b[0mratioList\u001b[0m \u001b[0;34m=\u001b[0m \u001b[0mlist\u001b[0m\u001b[0;34m(\u001b[0m\u001b[0mdeathSet\u001b[0m\u001b[0;34m/\u001b[0m\u001b[0mcasesSet\u001b[0m\u001b[0;34m)\u001b[0m\u001b[0;34m\u001b[0m\u001b[0;34m\u001b[0m\u001b[0m\n\u001b[0m\u001b[1;32m      2\u001b[0m \u001b[0mprint\u001b[0m\u001b[0;34m(\u001b[0m\u001b[0;34m\"average ration \"\u001b[0m \u001b[0;34m+\u001b[0m \u001b[0mstr\u001b[0m\u001b[0;34m(\u001b[0m\u001b[0msum\u001b[0m\u001b[0;34m(\u001b[0m\u001b[0mratioList\u001b[0m\u001b[0;34m)\u001b[0m \u001b[0;34m/\u001b[0m \u001b[0mlen\u001b[0m\u001b[0;34m(\u001b[0m\u001b[0mratioList\u001b[0m\u001b[0;34m)\u001b[0m\u001b[0;34m)\u001b[0m\u001b[0;34m)\u001b[0m\u001b[0;34m\u001b[0m\u001b[0;34m\u001b[0m\u001b[0m\n\u001b[1;32m      3\u001b[0m \u001b[0;34m\u001b[0m\u001b[0m\n\u001b[1;32m      4\u001b[0m \u001b[0mplt\u001b[0m\u001b[0;34m.\u001b[0m\u001b[0mplot\u001b[0m\u001b[0;34m(\u001b[0m\u001b[0mdeathSet\u001b[0m\u001b[0;34m,\u001b[0m \u001b[0mcasesSet\u001b[0m\u001b[0;34m,\u001b[0m \u001b[0mlabel\u001b[0m\u001b[0;34m=\u001b[0m\u001b[0;34m\"Death vs Case\"\u001b[0m\u001b[0;34m)\u001b[0m\u001b[0;34m\u001b[0m\u001b[0;34m\u001b[0m\u001b[0m\n\u001b[1;32m      5\u001b[0m \u001b[0mplt\u001b[0m\u001b[0;34m.\u001b[0m\u001b[0mlegend\u001b[0m\u001b[0;34m(\u001b[0m\u001b[0;34m)\u001b[0m\u001b[0;34m\u001b[0m\u001b[0;34m\u001b[0m\u001b[0m\n",
            "\u001b[0;31mNameError\u001b[0m: name 'deathSet' is not defined"
          ]
        }
      ]
    },
    {
      "cell_type": "markdown",
      "metadata": {
        "id": "5UKPxRXm4JnP"
      },
      "source": [
        "#Question 9"
      ]
    },
    {
      "cell_type": "code",
      "metadata": {
        "id": "Fhk8zCet4K-h",
        "colab": {
          "base_uri": "https://localhost:8080/",
          "height": 293
        },
        "outputId": "9fa2537a-200e-4cf6-9a1b-7a78955d8645"
      },
      "source": [
        "import matplotlib.pyplot as plt\n",
        "import pandas as pd\n",
        "from datetime import datetime \n",
        "\n",
        "spy = pd.read_csv(\"SPY.csv\")\n",
        "tlt = pd.read_csv(\"TLT.csv\")\n",
        "spy = spy[(spy[\"Date\"]>= \"2014-01-01\") & (spy[\"Date\"]<= \"2015-08-31\")]\n",
        "tlt = tlt[(tlt[\"Date\"]>= \"2014-01-01\") & (tlt[\"Date\"]<= \"2015-08-31\")]\n",
        "\n",
        "def normaliseAdjClose(extrDataSet):\n",
        "    first=list(extrDataSet['Adj Close'])[0]\n",
        "    result=[]\n",
        "    for i in range(len(list(extrDataSet['Adj Close']))):\n",
        "        result.append((list(extrDataSet['Adj Close'])[i]/first)*100)\n",
        "    return result\n",
        "\n",
        "\n",
        "def extractDate(extrDataSet):\n",
        "  date = pd.to_datetime(extrDataSet[\"Date\"])\n",
        "  return date\n",
        " \n",
        "spyListDate = extractDate(spy)\n",
        "tltListDate = extractDate(tlt)\n",
        "normalisedAdjSpy = normaliseAdjClose(spy)\n",
        "normalisedAdjTlt = normaliseAdjClose(tlt)\n",
        "\n",
        "plt.plot(spyListDate, normalisedAdjSpy, label=\"SPY\")\n",
        "plt.plot(tltListDate, normalisedAdjTlt, label=\"TLT\")\n",
        "plt.title(\"Two Time Series of SPY and TLT \");\n",
        "plt.xlabel(\"Adj Closing Price\", color=\"blue\")\n",
        "plt.ylabel(\"Date\", color=\"red\")\n",
        "plt.legend()\n",
        "plt.gcf().autofmt_xdate()\n"
      ],
      "execution_count": 86,
      "outputs": [
        {
          "output_type": "display_data",
          "data": {
            "image/png": "[encoded data removed]",
            "text/plain": [
              "<Figure size 432x288 with 1 Axes>"
            ]
          },
          "metadata": {
            "needs_background": "light"
          }
        }
      ]
    },
    {
      "cell_type": "markdown",
      "metadata": {
        "id": "ySheftaO4LRk"
      },
      "source": [
        "# Question 10 "
      ]
    },
    {
      "cell_type": "code",
      "metadata": {
        "id": "-RCIS7oo4NDF",
        "colab": {
          "base_uri": "https://localhost:8080/"
        },
        "outputId": "b09791e5-1493-4a9b-cd49-8aeda01c5adc"
      },
      "source": [
        "listTlt = []\n",
        "listSpy = []\n",
        "def createDatatList(dataSet, listDataSet):\n",
        "  for i in dataSet:\n",
        "    listDataSet.append(i)\n",
        "\n",
        "def dataSetAverage(listDataSet):\n",
        "  sum = 0\n",
        "  dailyReturnList = []\n",
        "  for i in range(len(listDataSet)):\n",
        "    if i == 0:\n",
        "      continue\n",
        "    dailyReturn = (listDataSet[i]/ listDataSet[i-1] - 1) #r(t) = p(t)/p(t-1)-1\n",
        "    dailyReturnList.append(dailyReturn)\n",
        "    sum = sum + dailyReturn\n",
        "    # print(sum)\n",
        "  return [sum,dailyReturnList]\n",
        "\n",
        "\n",
        "createDatatList(spy[\"Adj Close\"], listSpy)\n",
        "createDatatList(tlt[\"Adj Close\"], listTlt)\n",
        "print(\"Average of daily return for SPY \" + str(dataSetAverage(listSpy)[0]/len(listSpy) * 100))\n",
        "print(\"Average of daily return for TLT \" + str(dataSetAverage(listTlt)[0]/len(listTlt) * 100))\n",
        "\n",
        "print(\"Minimun of daily return for SPY \" + str(min(dataSetAverage(listSpy)[1]) * 100))\n",
        "print(\"Minimun of daily return for SPY \" + str(min(dataSetAverage(listTlt)[1]) * 100))\n",
        "print(\"Maximun of daily return for SPY \" + str(max(dataSetAverage(listSpy)[1]) * 100))\n",
        "print(\"Maximun of daily return for SPY \" + str(max(dataSetAverage(listTlt)[1]) * 100))\n"
      ],
      "execution_count": 103,
      "outputs": [
        {
          "output_type": "stream",
          "name": "stdout",
          "text": [
            "Average of daily return for SPY 0.028543979507712453\n",
            "Average of daily return for TLT 0.055246329412850737\n",
            "Minimun of daily return for SPY -4.2106781665589015\n",
            "Minimun of daily return for SPY -2.4324722414521993\n",
            "Maximun of daily return for SPY 3.839371960231941\n",
            "Maximun of daily return for SPY 2.6468916582609303\n"
          ]
        }
      ]
    }
  ]
}