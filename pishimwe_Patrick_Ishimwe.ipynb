{
  "nbformat": 4,
  "nbformat_minor": 0,
  "metadata": {
    "colab": {
      "name": "pishimwe-Patrick-Ishimwe.ipynb",
      "provenance": [],
      "collapsed_sections": [],
      "authorship_tag": "ABX9TyOCatKRIhFPtCSBpK2m83VP",
      "include_colab_link": true
    },
    "kernelspec": {
      "name": "python3",
      "display_name": "Python 3"
    },
    "language_info": {
      "name": "python"
    }
  },
  "cells": [
    {
      "cell_type": "markdown",
      "metadata": {
        "id": "view-in-github",
        "colab_type": "text"
      },
      "source": [
        "<a href=\"https://colab.research.google.com/github/pattyish/Broadcaster/blob/master/pishimwe_Patrick_Ishimwe.ipynb\" target=\"_parent\"><img src=\"https://colab.research.google.com/assets/colab-badge.svg\" alt=\"Open In Colab\"/></a>"
      ]
    },
    {
      "cell_type": "markdown",
      "metadata": {
        "id": "PAW3h9F45C0H"
      },
      "source": [
        "Imports "
      ]
    },
    {
      "cell_type": "code",
      "metadata": {
        "id": "hdjlXImD5FhF"
      },
      "source": [
        "import pandas as pd\n",
        "import matplotlib.pyplot as plt\n",
        "from datetime import datetime"
      ],
      "execution_count": null,
      "outputs": []
    },
    {
      "cell_type": "markdown",
      "metadata": {
        "id": "f0DxJ8s43RhA"
      },
      "source": [
        "#Question 1"
      ]
    },
    {
      "cell_type": "code",
      "metadata": {
        "colab": {
          "base_uri": "https://localhost:8080/"
        },
        "id": "Ndq_GtIXjQ6n",
        "outputId": "c12634d2-1338-4108-bbb8-f6467d4e2c6b"
      },
      "source": [
        "import math\n",
        "def calculateNumFolds(distNum):\n",
        "  x = distNum * math.pow(10, 3) ## converting to 8 848m in mm \n",
        "  totalNumFolds = math.ceil(math.log(x) / math.log(2))\n",
        "  print(totalNumFolds)\n",
        "\n",
        "# Get the number of folds based on the number you to the function\n",
        "calculateNumFolds(8848)"
      ],
      "execution_count": null,
      "outputs": [
        {
          "output_type": "stream",
          "name": "stdout",
          "text": [
            "23.076919954896795\n"
          ]
        }
      ]
    },
    {
      "cell_type": "markdown",
      "metadata": {
        "id": "y3wL3GDL3cPK"
      },
      "source": [
        "#Question 2"
      ]
    },
    {
      "cell_type": "code",
      "metadata": {
        "colab": {
          "base_uri": "https://localhost:8080/"
        },
        "id": "pPGRqiAO3lL3",
        "outputId": "375bbb75-84f5-45e0-c033-712f8e01a4fc"
      },
      "source": [
        "import math\n",
        "# t = ln 1 - ln 2 / (-0.1)\n",
        "# ln in math function of python is log\n",
        "t = round(math.log(1) - math.log(2) / (-0.1))\n",
        "\n",
        "# print time after get it\n",
        "print(str(t) + \"unit of time\")"
      ],
      "execution_count": null,
      "outputs": [
        {
          "output_type": "stream",
          "name": "stdout",
          "text": [
            "7unit of time\n"
          ]
        }
      ]
    },
    {
      "cell_type": "markdown",
      "metadata": {
        "id": "wsKocYnv3kD7"
      },
      "source": [
        "#Question 3"
      ]
    },
    {
      "cell_type": "code",
      "metadata": {
        "colab": {
          "base_uri": "https://localhost:8080/"
        },
        "id": "1XY4ZkkC3r7U",
        "outputId": "1ebb2c3c-8ce9-4253-8796-85de347c2b31"
      },
      "source": [
        "import math\n",
        "initialAmount = 100 # In dollar\n",
        "rate = 5/100 # My interest Rate \n",
        "amountWithInterest = 0\n",
        "for i in [1, 2, 3, 4, 5]:\n",
        "  # Bellow line will going to print the compound interest by using p * (1 + rate)^n \n",
        "  # where p is initial amount, rate is the interest rate and n is the time. this will be calculated annually.\n",
        "  print(\"year \" + str(i) + \": $\" +str(round(initialAmount * (math.pow((1 + rate),i)))))\n"
      ],
      "execution_count": null,
      "outputs": [
        {
          "output_type": "stream",
          "name": "stdout",
          "text": [
            "year 1: $105\n",
            "year 2: $110\n",
            "year 3: $116\n",
            "year 4: $122\n",
            "year 5: $128\n"
          ]
        }
      ]
    },
    {
      "cell_type": "markdown",
      "metadata": {
        "id": "aoT8NY5V3vAV"
      },
      "source": [
        "#Question 4"
      ]
    },
    {
      "cell_type": "code",
      "metadata": {
        "colab": {
          "base_uri": "https://localhost:8080/"
        },
        "id": "-Tgo61fM3xMa",
        "outputId": "dd277b61-af8d-4bea-dc23-b592eb481ac6"
      },
      "source": [
        "loan = 20000 # in dollar\n",
        "monthsOfYear = 12 # Is eqaul to one year\n",
        "rate = 1/100      # interest rate of monthly\n",
        "# formula to used on payment= r(pv)/(1-(1+r)^-n\n",
        "for i in [1, 2, 3]:\n",
        "  payment = (loan * rate) / (1 - (1 + rate)**(-i * 12))\n",
        "  # totalMount = loan + interest\n",
        "  # print(round(totalMount/(monthsOfYear * i)))\n",
        "  print(round(payment))\n"
      ],
      "execution_count": null,
      "outputs": [
        {
          "output_type": "stream",
          "name": "stdout",
          "text": [
            "1777\n",
            "941\n",
            "664\n"
          ]
        }
      ]
    },
    {
      "cell_type": "code",
      "metadata": {
        "id": "cIRT_iEX_33v"
      },
      "source": [
        ""
      ],
      "execution_count": null,
      "outputs": []
    },
    {
      "cell_type": "markdown",
      "metadata": {
        "id": "j3i_iEyZ3xy5"
      },
      "source": [
        "#Question 5"
      ]
    },
    {
      "cell_type": "code",
      "metadata": {
        "colab": {
          "base_uri": "https://localhost:8080/",
          "height": 297
        },
        "id": "uaZrHeOb30P9",
        "outputId": "85f888bf-e61a-4441-bec4-39ff642f7d85"
      },
      "source": [
        "import matplotlib.pyplot as plt\n",
        "\n",
        "customers = 100\n",
        "day = 1\n",
        "profitForOneCustomer = 10\n",
        "cumulativeProfit = customers * profitForOneCustomer\n",
        "totalInvestment = 100000\n",
        "dayTodayProfit = [cumulativeProfit]\n",
        "days = [day]\n",
        "##print(str(customers) + \" \" + str(cumulativeProfit) + \" \" + str(day))\n",
        "while (True):\n",
        "  if cumulativeProfit >= totalInvestment:\n",
        "    break\n",
        "  customers = customers * 1.01\n",
        "  cumulativeProfit = (customers * profitForOneCustomer) + cumulativeProfit\n",
        "  day = day + 1\n",
        "  dayTodayProfit.append(cumulativeProfit)\n",
        "  days.append(day)\n",
        "  ##print(str(customers) + \" \" + str(cumulativeProfit) + \" \" + str(day))\n",
        "#print(dayTodayProfit)\n",
        "#print(days)\n",
        "plt.plot(days, dayTodayProfit)\n",
        "plt.xlabel(\"Days\", color=\"blue\")\n",
        "plt.ylabel(\"Cumulative Profit\", color=\"red\")\n",
        "plt.plot(days[-1], dayTodayProfit[-1], 'go')\n",
        "# plt.vlines(days[-1], 0, dayTodayProfit[-1], linestyles =\"dotted\", colors =\"blue\")\n",
        "# plt.hlines(dayTodayProfit[-1], 0, days[-1], linestyles =\"dotted\", colors =\"red\")\n",
        "print(\"the number of days it will take to reach $100000 are: \" + str(days[-1]))\n",
        "# plt.title(\"Hello\")"
      ],
      "execution_count": null,
      "outputs": [
        {
          "output_type": "stream",
          "name": "stdout",
          "text": [
            "the number of days it will take to reach $100000 are: 70\n"
          ]
        },
        {
          "output_type": "display_data",
          "data": {
            "image/png": "[encoded data removed]",
            "text/plain": [
              "<Figure size 432x288 with 1 Axes>"
            ]
          },
          "metadata": {
            "needs_background": "light"
          }
        }
      ]
    },
    {
      "cell_type": "markdown",
      "metadata": {
        "id": "SRDOtbWj4Bu4"
      },
      "source": [
        "#Question 6"
      ]
    },
    {
      "cell_type": "code",
      "metadata": {
        "colab": {
          "base_uri": "https://localhost:8080/",
          "height": 335
        },
        "id": "ozagaqVI4ECR",
        "outputId": "4f3c039d-a951-40fc-dae4-689cf217de0c"
      },
      "source": [
        "deathDateList = []\n",
        "casesDateList = []\n",
        "newDeathDateList = []\n",
        "newCasesDateList = []\n",
        "deathList = []\n",
        "casesList = [] \n",
        "\n",
        "dateIndexForDeath = 0\n",
        "dateIndexForCase = 0\n",
        "df = pd.read_excel(\"ebola_download.xls\")\n",
        "index = pd.date_range(min(df.Date), max(df.Date))\n",
        "df = df.set_index(\"Date\").reindex(index)\n",
        "df = df.interpolate(method='linear')\n",
        "for value in [100, 500, 1000, 2000, 5000]:\n",
        "  dateIndexForDeath = min(df.index[df[\"Death\"] >= value])\n",
        "  dateIndexForCase = min(df.index[df[\"Cases\"] >= value])\n",
        "  deathDateList.append(datetime.strptime(dateIndexForDeath.strftime('%m/%d/%y'), '%m/%d/%y'))\n",
        "  casesDateList.append(datetime.strptime(dateIndexForCase.strftime('%m/%d/%y'), '%m/%d/%y'))\n",
        "  deathList.append(df[\"Death\"].loc[min(df.index[df[\"Death\"] >= value])])\n",
        "  casesList.append(df[\"Cases\"].loc[min(df.index[df[\"Cases\"] >= value])])\n",
        "\n",
        "# # plt.figure(figsize=(10,10))\n",
        "# for date in casesDateList:\n",
        "#   # date.strftime('%m/%d/%y')\n",
        "#   newCasesDateList.append(str(date))\n",
        "\n",
        "# for date in casesDateList:\n",
        "#   # date.strftime('%m/%d/%y')\n",
        "#   newDeathDateList.append(str(date))\n",
        "plt.plot(casesDateList, casesList, casesDateList, deathList, marker=\"*\")\n",
        "plt.xticks(rotation=70)\n",
        "\n",
        "# plt.legend()\n",
        "# plt.show()"
      ],
      "execution_count": null,
      "outputs": [
        {
          "output_type": "execute_result",
          "data": {
            "text/plain": [
              "(array([735324., 735354., 735385., 735415., 735446., 735477.]),\n",
              " <a list of 6 Text major ticklabel objects>)"
            ]
          },
          "metadata": {},
          "execution_count": 115
        },
        {
          "output_type": "display_data",
          "data": {
            "image/png": "[encoded data removed]",
            "text/plain": [
              "<Figure size 432x288 with 1 Axes>"
            ]
          },
          "metadata": {
            "needs_background": "light"
          }
        }
      ]
    },
    {
      "cell_type": "markdown",
      "metadata": {
        "id": "2PqvLhsI4EtQ"
      },
      "source": [
        "Question 7"
      ]
    },
    {
      "cell_type": "code",
      "metadata": {
        "id": "VF6LcZQ84GnA",
        "colab": {
          "base_uri": "https://localhost:8080/"
        },
        "outputId": "10979039-c08f-4e82-adf5-7c1b39f92582"
      },
      "source": [
        "\n",
        "deathSet = df[\"Death\"]\n",
        "casesSet = df[\"Cases\"]\n",
        "averageRateDeath = 0\n",
        "averageRateCases = 0\n",
        "def calculateGrowth(currentDeath, previousDeath):\n",
        "  return ((currentDeath - previousDeath) / previousDeath) * 100 \n",
        "\n",
        "for i in range(len(deathSet) - 1): \n",
        "  averageRateDeath = averageRateDeath + calculateGrowth(deathSet[i + 1], deathSet[i])\n",
        "  # print(deathSet[i])\n",
        "\n",
        "for i in range(len(casesSet) - 1):\n",
        "  averageRateCases = averageRateCases + calculateGrowth(casesSet[i + 1], casesSet[i])\n",
        "  # print(casesSet[i + 1])\n",
        "print(averageRateDeath/len(deathSet))\n",
        "print(averageRateCases/len(deathSet))\n",
        "\n",
        "  # print(deathSet[i])    \n",
        "# for index, row in dataSet.iterrows():\n",
        "#     print(index, row.values)\n"
      ],
      "execution_count": null,
      "outputs": [
        {
          "output_type": "stream",
          "name": "stdout",
          "text": [
            "2.3207326253875955\n",
            "2.4959010361769027\n"
          ]
        }
      ]
    },
    {
      "cell_type": "markdown",
      "metadata": {
        "id": "A_qMVEVf4Hgy"
      },
      "source": [
        "Question 8"
      ]
    },
    {
      "cell_type": "code",
      "metadata": {
        "id": "kJ3gjdUm4JO7",
        "colab": {
          "base_uri": "https://localhost:8080/",
          "height": 610
        },
        "outputId": "7b45ac7a-5298-4151-9b34-2abef2c2c435"
      },
      "source": [
        "plt.figure(figsize=(10,10))\n",
        "plt.plot(deathSet, casesSet, \"ro\")\n"
      ],
      "execution_count": null,
      "outputs": [
        {
          "output_type": "execute_result",
          "data": {
            "text/plain": [
              "[<matplotlib.lines.Line2D at 0x7f6c0cdc0450>]"
            ]
          },
          "metadata": {},
          "execution_count": 98
        },
        {
          "output_type": "display_data",
          "data": {
            "image/png": "[encoded data removed]",
            "text/plain": [
              "<Figure size 720x720 with 1 Axes>"
            ]
          },
          "metadata": {
            "needs_background": "light"
          }
        }
      ]
    },
    {
      "cell_type": "markdown",
      "metadata": {
        "id": "5UKPxRXm4JnP"
      },
      "source": [
        "Question 9"
      ]
    },
    {
      "cell_type": "code",
      "metadata": {
        "id": "Fhk8zCet4K-h",
        "colab": {
          "base_uri": "https://localhost:8080/",
          "height": 263
        },
        "outputId": "aa8ae49c-6291-4ad4-c1f1-8ee40bcfa5a3"
      },
      "source": [
        "import matplotlib.pyplot as plt\n",
        "import pandas as pd\n",
        "from datetime import datetime \n",
        "\n",
        "spy = pd.read_csv(\"SPY.csv\")\n",
        "tlt = pd.read_csv(\"TLT.csv\")\n",
        "spy = spy[(spy[\"Date\"]>= \"2014-01-01\") & (spy[\"Date\"]<= \"2015-08-31\")]\n",
        "tlt = tlt[(tlt[\"Date\"]>= \"2014-01-01\") & (tlt[\"Date\"]<= \"2015-08-31\")]\n",
        "\n",
        "def normaliseAdjClose(extrDataSet):\n",
        "    first=list(extrDataSet['Adj Close'])[0]\n",
        "    result=[]\n",
        "    for i in range(len(list(extrDataSet['Adj Close']))):\n",
        "        result.append((list(extrDataSet['Adj Close'])[i]/first)*100)\n",
        "    return result\n",
        "\n",
        "\n",
        "def extractDate(extrDataSet):\n",
        "  date = pd.to_datetime(extrDataSet[\"Date\"])\n",
        "  return date\n",
        " \n",
        "spyListDate = extractDate(spy)\n",
        "tltListDate = extractDate(tlt)\n",
        "normalisedAdjSpy = normaliseAdjClose(spy)\n",
        "normalisedAdjTlt = normaliseAdjClose(tlt)\n",
        "\n",
        "plt.plot(spyListDate, normalisedAdjSpy, tltListDate, normalisedAdjTlt)\n",
        "plt.gcf().autofmt_xdate()\n"
      ],
      "execution_count": null,
      "outputs": [
        {
          "output_type": "display_data",
          "data": {
            "image/png": "[encoded data removed]",
            "text/plain": [
              "<Figure size 432x288 with 1 Axes>"
            ]
          },
          "metadata": {
            "needs_background": "light"
          }
        }
      ]
    },
    {
      "cell_type": "markdown",
      "metadata": {
        "id": "ySheftaO4LRk"
      },
      "source": [
        "Question 10 "
      ]
    },
    {
      "cell_type": "code",
      "metadata": {
        "id": "-RCIS7oo4NDF",
        "colab": {
          "base_uri": "https://localhost:8080/"
        },
        "outputId": "bf5435ee-9208-400b-daaa-836883db2bc6"
      },
      "source": [
        "listTlt = []\n",
        "listSpy = []\n",
        "def createDatatList(dataSet, listDataSet):\n",
        "  for i in dataSet:\n",
        "    listDataSet.append(i)\n",
        "\n",
        "def dataSetAverage(listDataSet):\n",
        "  sum = 0\n",
        "  dailyReturnList = []\n",
        "  for i in range(len(listDataSet)):\n",
        "    if i == 0:\n",
        "      continue\n",
        "    dailyReturn = (listDataSet[i]/ listDataSet[i-1] - 1) #r(t) = p(t)/p(t-1)-1\n",
        "    dailyReturnList.append(dailyReturn)\n",
        "    sum = sum + dailyReturn\n",
        "    # print(sum)\n",
        "  return [sum,dailyReturnList]\n",
        "\n",
        "\n",
        "createDatatList(spy[\"Adj Close\"], listSpy)\n",
        "createDatatList(tlt[\"Adj Close\"], listTlt)\n",
        "print(dataSetAverage(listSpy)[0]/len(listSpy))\n",
        "print(dataSetAverage(listTlt)[0]/len(listTlt))\n",
        "\n",
        "print(min(dataSetAverage(listSpy)[1]))\n",
        "print(min(dataSetAverage(listTlt)[1]))\n",
        "print(max(dataSetAverage(listSpy)[1]))\n",
        "print(max(dataSetAverage(listTlt)[1]))\n"
      ],
      "execution_count": null,
      "outputs": [
        {
          "output_type": "stream",
          "name": "stdout",
          "text": [
            "0.00028543979507712454\n",
            "0.0005524632941285074\n",
            "-0.04210678166558901\n",
            "-0.024324722414521993\n",
            "0.03839371960231941\n",
            "0.026468916582609303\n"
          ]
        }
      ]
    }
  ]
}